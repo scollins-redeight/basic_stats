{
 "cells": [
  {
   "cell_type": "markdown",
   "metadata": {},
   "source": [
    "# Basic Stats: Chi-squared Calculator #\n",
    "## Overview ##\n",
    "This notebook will allow you to quickly calculate whether you have confidence that two or more sample sets of categorical data are independent of one another. In the case of website conversion or other engagement metrics, it will mean that you can be confident that the test which appears to be the winner is ACTUALLY the winner. "
   ]
  },
  {
   "cell_type": "code",
   "execution_count": 2,
   "metadata": {
    "collapsed": false
   },
   "outputs": [],
   "source": [
    "# First some code to load the stats library\n",
    "# Run it by clicking in this box and then \n",
    "# pressing [shift][enter] at the same time\n",
    "import scipy.stats"
   ]
  },
  {
   "cell_type": "markdown",
   "metadata": {},
   "source": [
    "## Data Entry ##\n",
    "Normally you will already have your data in a contingency table. This means that it will look something like: \n",
    "\n",
    "|TEST:|A|B|C|...|\n",
    "|---|---|----|---|---|\n",
    "|Visitors/Clicks/Other:|1000|2000|3000|...|\n",
    "|Conversions/Engagement/Other:|100|200|600|...|\n",
    "\n",
    "With data like that, you will then want to enter it into a variable which we will call \"results\" below. Remember that you can add as many test columns as you like by separating the values with a comma as below. ALSO- don't forget to initialize the variable by pressing [SHIFT][ENTER] when you have replaced the data below with your own: "
   ]
  },
  {
   "cell_type": "code",
   "execution_count": 3,
   "metadata": {
    "collapsed": true
   },
   "outputs": [],
   "source": [
    "results = [[1000,2000,3000],[100,200,600]]"
   ]
  },
  {
   "cell_type": "code",
   "execution_count": 4,
   "metadata": {
    "collapsed": false
   },
   "outputs": [],
   "source": [
    "# Now let python analyze the data. Click in this cell and press [SHIFT][ENTER]\n",
    "chi2, p, ddof, expected = scipy.stats.chi2_contingency(results)"
   ]
  },
  {
   "cell_type": "markdown",
   "metadata": {},
   "source": [
    "## Set your threshold ##\n",
    "Set the p-value threshold for confidence below. "
   ]
  },
  {
   "cell_type": "code",
   "execution_count": 9,
   "metadata": {
    "collapsed": false
   },
   "outputs": [
    {
     "name": "stdout",
     "output_type": "stream",
     "text": [
      "Chisquare: 87.1212121212\n",
      "P-Value: 1.20745001022e-19\n",
      "Degrees of Freedom: 2\n",
      "You can be 95.0 % confident in your winner\n"
     ]
    }
   ],
   "source": [
    "print('Chisquare:',chi2)\n",
    "print('P-Value:', p)\n",
    "print('Degrees of Freedom:', ddof)\n",
    "threshold = 0.05\n",
    "if p < threshold: print('You can be', (1-threshold)*100,'%','confident in your winner')\n",
    "else: print('You need more samples for confidence')"
   ]
  },
  {
   "cell_type": "code",
   "execution_count": null,
   "metadata": {
    "collapsed": true
   },
   "outputs": [],
   "source": []
  }
 ],
 "metadata": {
  "anaconda-cloud": {},
  "kernelspec": {
   "display_name": "Python [default]",
   "language": "python",
   "name": "python3"
  },
  "language_info": {
   "codemirror_mode": {
    "name": "ipython",
    "version": 3
   },
   "file_extension": ".py",
   "mimetype": "text/x-python",
   "name": "python",
   "nbconvert_exporter": "python",
   "pygments_lexer": "ipython3",
   "version": "3.5.2"
  }
 },
 "nbformat": 4,
 "nbformat_minor": 1
}
